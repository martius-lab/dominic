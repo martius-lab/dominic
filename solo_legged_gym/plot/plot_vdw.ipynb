{
 "cells": [
  {
   "cell_type": "code",
   "execution_count": 12,
   "metadata": {},
   "outputs": [
    {
     "name": "stdout",
     "output_type": "stream",
     "text": [
      "The autoreload extension is already loaded. To reload it, use:\n",
      "  %reload_ext autoreload\n"
     ]
    }
   ],
   "source": [
    "%load_ext autoreload\n",
    "%autoreload 2\n",
    "\n",
    "\n",
    "from diffusion_opt.experiment_aggregation import Experiment, ExperimentSummary\n",
    "\n",
    "\n",
    "\n",
    "# set up matplotlib\n",
    "\n",
    "import matplotlib.pyplot as plt\n",
    "from tueplots import bundles\n",
    "from tueplots import figsizes, fontsizes\n",
    "\n",
    "plt.rcParams.update(bundles.icml2022())\n",
    "\n",
    "sizes = plt.rcParams.copy()\n",
    "\n",
    "figsize_hhalf = sizes['figure.figsize'][0] / 2, sizes['figure.figsize'][1]\n",
    "new_figsize = sizes['figure.figsize'][0], sizes['figure.figsize'][1] /2.0\n",
    "sizes = figsizes.neurips2023(ncols=1)\n",
    "new_figsize = sizes['figure.figsize'][0], sizes['figure.figsize'][1] /2.0\n",
    "figsize_full = sizes['figure.figsize'][0], sizes['figure.figsize'][1]\n",
    "figsize_75 = sizes['figure.figsize'][0], sizes['figure.figsize'][1] * 0.75\n",
    "figsize_25 = sizes['figure.figsize'][0], sizes['figure.figsize'][1] * 0.25\n",
    "figsize_40 = sizes['figure.figsize'][0], sizes['figure.figsize'][1] * 0.4\n",
    "figsize_30 = sizes['figure.figsize'][0], sizes['figure.figsize'][1] * 0.3\n",
    "figsize_70 = sizes['figure.figsize'][0], sizes['figure.figsize'][1] * 0.7\n",
    "\n",
    "\n",
    "# COLORS = \"#E69F00\", \"#56B4E9\", \"#009E73\", \"#0072B2\", \"#D55E00\", \"#CC79A7\", \"#F0E442\"\n",
    "\n",
    "COLORS = \"#E69F00\", \"#56B4E9\", \"#009E73\", \"#0072B2\", \"#D55E00\", \"#CC79A7\", \"#F0E442\"\n",
    "\n",
    "\n",
    "COLORS_FLOATING_POINT = [\n",
    "    (0.368,0.507,0.71), # blue\n",
    "    (0.881,0.611,0.142), # orange\n",
    "    (.56,0.692,0.195), # green\n",
    "    (0.923,0.386,0.209), # red\n",
    "    (0.528,0.471,0.701), # purple\n",
    "    (0.772,0.432,0.102), # brown\n",
    "    (0.364,0.619,0.782) # cyan\n",
    "]\n",
    "\n",
    "# AL group color scheme\n",
    "COLORS = []\n",
    "for (r,g,b) in COLORS_FLOATING_POINT:\n",
    "    # print(\"#%02x%02x%02x\" % (int(r*255), int(g*255), int(b*255)))\n",
    "    COLORS.append(\"#%02x%02x%02x\" % (int(r*255), int(g*255), int(b*255)))\n",
    "\n",
    "\n",
    "\n"
   ]
  },
  {
   "cell_type": "code",
   "execution_count": 9,
   "metadata": {},
   "outputs": [
    {
     "name": "stderr",
     "output_type": "stream",
     "text": [
      "100%|██████████| 324/324 [00:38<00:00,  8.40it/s]\n"
     ]
    }
   ],
   "source": [
    "# data loading\n",
    "\n",
    "path = '/is/rg/al/Data/solo12_data/blm_more_alpha_l0'\n",
    "experiments = Experiment.extract_experiments([path], load_tensorboard=False, load_h5=True)\n"
   ]
  },
  {
   "cell_type": "code",
   "execution_count": 13,
   "metadata": {},
   "outputs": [],
   "source": [
    "summary = ExperimentSummary(experiments, exclude_params=['solo_legged_gym.env_cfg.seed'])"
   ]
  },
  {
   "cell_type": "code",
   "execution_count": 33,
   "metadata": {},
   "outputs": [
    {
     "name": "stdout",
     "output_type": "stream",
     "text": [
      "scalar/main/Feature/avg_nearest_dist\n",
      "scalar/main/Feature/avg_nearest_dist_per_step\n"
     ]
    }
   ],
   "source": [
    "for k in summary.experiments[0].values.keys():\n",
    "    if 'avg_nearest' in k:\n",
    "        print(k)"
   ]
  },
  {
   "cell_type": "code",
   "execution_count": 47,
   "metadata": {},
   "outputs": [
    {
     "data": {
      "text/plain": [
       "dict_keys(['mu', 'var'])"
      ]
     },
     "execution_count": 47,
     "metadata": {},
     "output_type": "execute_result"
    }
   ],
   "source": [
    "time_statistics_feature[(0.3, 0.3, 0.3, 1.0)].keys()"
   ]
  },
  {
   "cell_type": "code",
   "execution_count": 63,
   "metadata": {},
   "outputs": [],
   "source": [
    "idx = (0.3, None, None, None)\n",
    "\n",
    "time_statistics_feature = summary.time_statistics('scalar/main/Feature/avg_nearest_dist_per_step', [idx])\n",
    "time_statistics_return = summary.time_statistics('scalar/main/Constraint/avg_ext_values_rew0_skill1', [idx])\n",
    "\n",
    "\n",
    "import numpy as np\n",
    "\n",
    "def extract_mu_std(ts):\n",
    "    \"\"\"Returns last timestep.\"\"\"\n",
    "    return np.array([t['mu'][-1] for t in ts]),np.array([t['std'][-1] for t in ts])\n",
    "\n",
    "##### change this with data #######\n",
    "\n",
    "x = np.array([time_statistics_feature[k]['mu'][-1] for k in time_statistics_feature])\n",
    "y = np.array([time_statistics_return[k]['mu'][-1] for k in time_statistics_return])\n",
    "x_err = np.sqrt(np.array([time_statistics_feature[k]['var'][-1] for k in time_statistics_feature]))\n",
    "y_err = np.sqrt(np.array([time_statistics_return[k]['var'][-1] for k in time_statistics_return]))\n",
    "\n",
    "a1 = np.array([k[0] for k in time_statistics_feature.keys()])\n",
    "a2 = np.array([k[1] for k in time_statistics_feature.keys()])\n",
    "a3 = np.array([k[2] for k in time_statistics_feature.keys()])\n",
    "l0_values = np.array([k[3] for k in time_statistics_feature.keys()])\n",
    "cmap_l0 = {\n",
    "    1.0: COLORS[0],\n",
    "    2.0: COLORS[1],\n",
    "    3.0: COLORS[2],\n",
    "    4.0: COLORS[3]\n",
    "}\n",
    "l0_colors = [cmap_l0[l0] for l0 in l0_values]\n",
    "\n",
    "####################################\n"
   ]
  },
  {
   "cell_type": "code",
   "execution_count": 69,
   "metadata": {},
   "outputs": [
    {
     "name": "stdout",
     "output_type": "stream",
     "text": [
      "Experiments Int64Index([4, 10, 242], dtype='int64') has 3 runs\n",
      "Experiments Int64Index([40, 159, 244], dtype='int64') has 3 runs\n",
      "Experiments Int64Index([13, 19, 184], dtype='int64') has 3 runs\n",
      "Experiments Int64Index([135, 187, 266], dtype='int64') has 3 runs\n",
      "Experiments Int64Index([151, 312, 315], dtype='int64') has 3 runs\n",
      "Experiments Int64Index([145, 158, 241], dtype='int64') has 3 runs\n",
      "Experiments Int64Index([143, 164, 213], dtype='int64') has 3 runs\n",
      "Experiments Int64Index([161, 257, 268], dtype='int64') has 3 runs\n",
      "Experiments Int64Index([171, 193, 284], dtype='int64') has 3 runs\n",
      "Experiments Int64Index([33, 79, 247], dtype='int64') has 3 runs\n",
      "Experiments Int64Index([103, 212, 297], dtype='int64') has 3 runs\n",
      "Experiments Int64Index([67, 238, 252], dtype='int64') has 3 runs\n",
      "Experiments Int64Index([4, 10, 242], dtype='int64') has 3 runs\n",
      "Experiments Int64Index([40, 159, 244], dtype='int64') has 3 runs\n",
      "Experiments Int64Index([13, 19, 184], dtype='int64') has 3 runs\n",
      "Experiments Int64Index([135, 187, 266], dtype='int64') has 3 runs\n",
      "Experiments Int64Index([151, 312, 315], dtype='int64') has 3 runs\n",
      "Experiments Int64Index([145, 158, 241], dtype='int64') has 3 runs\n",
      "Experiments Int64Index([143, 164, 213], dtype='int64') has 3 runs\n",
      "Experiments Int64Index([161, 257, 268], dtype='int64') has 3 runs\n",
      "Experiments Int64Index([171, 193, 284], dtype='int64') has 3 runs\n",
      "Experiments Int64Index([33, 79, 247], dtype='int64') has 3 runs\n",
      "Experiments Int64Index([103, 212, 297], dtype='int64') has 3 runs\n",
      "Experiments Int64Index([67, 238, 252], dtype='int64') has 3 runs\n"
     ]
    },
    {
     "data": {
      "image/png": "[encoded data removed]",
      "text/plain": [
       "<Figure size 325x200.861 with 2 Axes>"
      ]
     },
     "metadata": {},
     "output_type": "display_data"
    }
   ],
   "source": [
    "\n",
    "# data\n",
    "# define indexes that you want to plot here\n",
    "idx = (None, 0.3, 0.6, None)\n",
    "\n",
    "time_statistics_feature = summary.time_statistics('scalar/main/Feature/avg_nearest_dist_per_step', [idx])\n",
    "time_statistics_return = summary.time_statistics('scalar/main/Constraint/avg_ext_values_rew0_skill1', [idx])\n",
    "\n",
    "\n",
    "import numpy as np\n",
    "\n",
    "def extract_mu_std(ts):\n",
    "    \"\"\"Returns last timestep.\"\"\"\n",
    "    return np.array([t['mu'][-1] for t in ts]),np.array([t['std'][-1] for t in ts])\n",
    "\n",
    "##### change this with data #######\n",
    "\n",
    "x = np.array([time_statistics_feature[k]['mu'][-1] for k in time_statistics_feature])\n",
    "y = np.array([time_statistics_return[k]['mu'][-1] for k in time_statistics_return])\n",
    "x_err = np.sqrt(np.array([time_statistics_feature[k]['var'][-1] for k in time_statistics_feature]))\n",
    "y_err = np.sqrt(np.array([time_statistics_return[k]['var'][-1] for k in time_statistics_return]))\n",
    "\n",
    "a1 = np.array([k[0] for k in time_statistics_feature.keys()])\n",
    "a2 = np.array([k[1] for k in time_statistics_feature.keys()])\n",
    "a3 = np.array([k[2] for k in time_statistics_feature.keys()])\n",
    "l0_values = np.array([k[3] for k in time_statistics_feature.keys()])\n",
    "cmap_l0 = {\n",
    "    1.0: COLORS[0],\n",
    "    2.0: COLORS[1],\n",
    "    3.0: COLORS[2],\n",
    "    4.0: COLORS[3]\n",
    "}\n",
    "l0_colors = [cmap_l0[l0] for l0 in l0_values]\n",
    "\n",
    "####################################\n",
    "\n",
    "\n",
    "\n",
    "\n",
    "# random scatter plot\n",
    "import numpy as np\n",
    "import matplotlib.pyplot as plt\n",
    "import matplotlib.patches as mpatches\n",
    "import matplotlib.lines as mlines\n",
    "import matplotlib.ticker as mticker\n",
    "import matplotlib\n",
    "import matplotlib.ticker as ticker\n",
    "import matplotlib.gridspec as gridspec\n",
    "import matplotlib.patches as patches\n",
    "import itertools\n",
    "\n",
    "\n",
    "\n",
    "\n",
    "def scatter_pie_markers(x,y, c1, c2, c3, size=40, ax=None):\n",
    "\n",
    "    # first define the ratios\n",
    "    r1 = 0.33       # 20%\n",
    "    r2 = r1 + 0.33  # 40%\n",
    "\n",
    "    if ax is None:\n",
    "        ax = plt.gca()\n",
    "\n",
    "    # calculate the points of the first pie marker\n",
    "    #\n",
    "    # these are just the origin (0,0) +\n",
    "    # some points on a circle cos,sin\n",
    "    x_ = [0] + np.cos(np.linspace(0, 2 * np.pi * r1, 10)).tolist()\n",
    "    y_ = [0] + np.sin(np.linspace(0, 2 * np.pi * r1, 10)).tolist()\n",
    "    xy1 = np.column_stack([x_, y_])\n",
    "    s1 = np.abs(xy1).max()\n",
    "\n",
    "    x_ = [0] + np.cos(np.linspace(2 * np.pi * r1, 2 * np.pi * r2, 10)).tolist()\n",
    "    y_ = [0] + np.sin(np.linspace(2 * np.pi * r1, 2 * np.pi * r2, 10)).tolist()\n",
    "    xy2 = np.column_stack([x_, y_])\n",
    "    s2 = np.abs(xy2).max()\n",
    "\n",
    "    x_ = [0] + np.cos(np.linspace(2 * np.pi * r2, 2 * np.pi, 10)).tolist()\n",
    "    y_ = [0] + np.sin(np.linspace(2 * np.pi * r2, 2 * np.pi, 10)).tolist()\n",
    "    xy3 = np.column_stack([x_, y_])\n",
    "    s3 = np.abs(xy3).max()\n",
    "\n",
    "    ax.scatter(x, y, marker=xy1,\n",
    "            s=s1 ** 2 * size, facecolor=c1)\n",
    "    ax.scatter(x, y, marker=xy2,\n",
    "            s=s2 ** 2 * size, facecolor=c2)\n",
    "    return ax.scatter(x, y, marker=xy3,\n",
    "            s=s3 ** 2 * size, facecolor=c3)\n",
    "\n",
    "\n",
    "\n",
    "\n",
    "\n",
    "fig, ax = plt.subplots()\n",
    "\n",
    "\n",
    "##### change this with data #######\n",
    "\n",
    "# x,y = np.random.rand(20), np.random.rand(20)\n",
    "# y_err = np.random.rand(20) * 0.1\n",
    "# x_err = np.random.rand(20) * 0.1\n",
    "# a1 = np.random.rand(20)\n",
    "# a2 = np.random.rand(20)\n",
    "# a3 = np.random.rand(20)\n",
    "\n",
    "# l0_colors = np.random.randint(3, size=20)\n",
    "# l0_values = [1.0, 2.0, 4.0]\n",
    "# l0_values = np.array([l0_values[i] for i in l0_colors])\n",
    "# l0_colors = np.array([COLORS[i] for i in l0_colors])\n",
    "\n",
    "####################################\n",
    "\n",
    "\n",
    "\n",
    "c = COLORS[0]\n",
    "\n",
    "cmap = matplotlib.colormaps['viridis'].resampled(8)\n",
    "\n",
    "\n",
    "\n",
    "for x_, y_, y_err_, x_err_, a1_, a2_, a3_, l0, l0_color in zip(x.reshape(-1, 1),y.reshape(-1,1),y_err.reshape(-1,1),x_err.reshape(-1,1), a1, a2, a3, l0_values, l0_colors):\n",
    "\n",
    "    plt.errorbar(x_, y_, xerr=x_err_, fmt='o', markersize=0.0, zorder=-1, c=l0_color)\n",
    "    im = scatter_pie_markers(x_,y_, cmap(a1_), cmap(a2_), cmap(a3_), ax=ax)\n",
    "\n",
    "\n",
    "    ax.annotate(f'{l0}', (x_+0.02,  y_+0.02), color=l0_color)\n",
    "\n",
    "\n",
    "\n",
    "\n",
    "# plot heatmap of the data\n",
    "ax.set_ylabel(\"Return\")\n",
    "ax.set_xlabel(\"Diversity\")\n",
    "\n",
    "\n",
    "norm = matplotlib.colors.Normalize(vmin=0.2, vmax=1.0)\n",
    "fig.colorbar(matplotlib.cm.ScalarMappable(norm=norm, cmap='viridis'), ax=ax, orientation=\"vertical\", label=\"$\\\\alpha$\")\n",
    "\n",
    "import os\n",
    "fig.savefig(os.path.expanduser('~/Figures/icra2023/vdw_rainbow_r0.pdf'), bbox_inches='tight')\n",
    "\n",
    "\n",
    "\n",
    "\n",
    "\n"
   ]
  },
  {
   "cell_type": "code",
   "execution_count": 56,
   "metadata": {},
   "outputs": [
    {
     "data": {
      "text/plain": [
       "108"
      ]
     },
     "execution_count": 56,
     "metadata": {},
     "output_type": "execute_result"
    }
   ],
   "source": [
    "len(y_err)"
   ]
  },
  {
   "cell_type": "code",
   "execution_count": null,
   "metadata": {},
   "outputs": [],
   "source": []
  }
 ],
 "metadata": {
  "kernelspec": {
   "display_name": ".venv",
   "language": "python",
   "name": "python3"
  },
  "language_info": {
   "codemirror_mode": {
    "name": "ipython",
    "version": 3
   },
   "file_extension": ".py",
   "mimetype": "text/x-python",
   "name": "python",
   "nbconvert_exporter": "python",
   "pygments_lexer": "ipython3",
   "version": "3.8.18"
  },
  "orig_nbformat": 4
 },
 "nbformat": 4,
 "nbformat_minor": 2
}
