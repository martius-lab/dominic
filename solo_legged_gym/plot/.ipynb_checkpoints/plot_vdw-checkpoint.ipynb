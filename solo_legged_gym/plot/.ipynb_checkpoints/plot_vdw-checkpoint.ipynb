{
 "cells": [
  {
   "cell_type": "code",
   "execution_count": 9,
   "metadata": {
    "ExecuteTime": {
     "end_time": "2023-09-12T12:07:10.770941088Z",
     "start_time": "2023-09-12T12:07:10.141619059Z"
    }
   },
   "outputs": [
    {
     "name": "stdout",
     "output_type": "stream",
     "text": [
      "The autoreload extension is already loaded. To reload it, use:\n",
      "  %reload_ext autoreload\n"
     ]
    }
   ],
   "source": [
    "%load_ext autoreload\n",
    "%autoreload 2\n",
    "import sys\n",
    "import os\n",
    "\n",
    "sys.path.append(\"/is/sg2/jcheng/Dev/doi_solo/successor-features/src\")\n",
    "os.environ[\"HDF5_USE_FILE_LOCKING\"] = \"FALSE\"\n",
    "\n",
    "from diffusion_opt.experiment_aggregation import Experiment, ExperimentSummary\n",
    "\n",
    "# set up matplotlib\n",
    "\n",
    "import matplotlib.pyplot as plt\n",
    "from tueplots import bundles\n",
    "from tueplots import figsizes, fontsizes\n",
    "\n",
    "plt.rcParams.update(bundles.icml2022())\n",
    "\n",
    "sizes = plt.rcParams.copy()\n",
    "\n",
    "figsize_hhalf = sizes['figure.figsize'][0] / 2, sizes['figure.figsize'][1]\n",
    "new_figsize = sizes['figure.figsize'][0], sizes['figure.figsize'][1] /2.0\n",
    "sizes = figsizes.neurips2023(ncols=1)\n",
    "new_figsize = sizes['figure.figsize'][0], sizes['figure.figsize'][1] /2.0\n",
    "figsize_full = sizes['figure.figsize'][0], sizes['figure.figsize'][1]\n",
    "figsize_75 = sizes['figure.figsize'][0], sizes['figure.figsize'][1] * 0.75\n",
    "figsize_25 = sizes['figure.figsize'][0], sizes['figure.figsize'][1] * 0.25\n",
    "figsize_40 = sizes['figure.figsize'][0], sizes['figure.figsize'][1] * 0.4\n",
    "figsize_30 = sizes['figure.figsize'][0], sizes['figure.figsize'][1] * 0.3\n",
    "figsize_70 = sizes['figure.figsize'][0], sizes['figure.figsize'][1] * 0.7\n",
    "\n",
    "\n",
    "# COLORS = \"#E69F00\", \"#56B4E9\", \"#009E73\", \"#0072B2\", \"#D55E00\", \"#CC79A7\", \"#F0E442\"\n",
    "\n",
    "COLORS = \"#E69F00\", \"#56B4E9\", \"#009E73\", \"#0072B2\", \"#D55E00\", \"#CC79A7\", \"#F0E442\"\n",
    "\n",
    "\n",
    "COLORS_FLOATING_POINT = [\n",
    "    (0.368,0.507,0.71), # blue\n",
    "    (0.881,0.611,0.142), # orange\n",
    "    (.56,0.692,0.195), # green\n",
    "    (0.923,0.386,0.209), # red\n",
    "    (0.528,0.471,0.701), # purple\n",
    "    (0.772,0.432,0.102), # brown\n",
    "    (0.364,0.619,0.782) # cyan\n",
    "]\n",
    "\n",
    "# AL group color scheme\n",
    "COLORS = []\n",
    "for (r,g,b) in COLORS_FLOATING_POINT:\n",
    "    # print(\"#%02x%02x%02x\" % (int(r*255), int(g*255), int(b*255)))\n",
    "    COLORS.append(\"#%02x%02x%02x\" % (int(r*255), int(g*255), int(b*255)))\n",
    "\n",
    "\n",
    "\n"
   ]
  },
  {
   "cell_type": "code",
   "execution_count": 11,
   "metadata": {
    "ExecuteTime": {
     "end_time": "2023-09-12T12:09:04.719798597Z",
     "start_time": "2023-09-12T12:08:45.418286504Z"
    }
   },
   "outputs": [
    {
     "name": "stderr",
     "output_type": "stream",
     "text": [
      "  0%|          | 1/324 [00:06<33:33,  6.23s/it]"
     ]
    },
    {
     "name": "stdout",
     "output_type": "stream",
     "text": [
      "Skipping /is/rg/al/Data/solo12_data/blm_more_alpha_l0/working_directories/158 because of [Errno 37] Unable to open file (unable to lock file, errno = 37, error message = 'No locks available')\n"
     ]
    },
    {
     "name": "stderr",
     "output_type": "stream",
     "text": [
      "  1%|          | 2/324 [00:12<33:10,  6.18s/it]"
     ]
    },
    {
     "name": "stdout",
     "output_type": "stream",
     "text": [
      "Skipping /is/rg/al/Data/solo12_data/blm_more_alpha_l0/working_directories/62 because of [Errno 37] Unable to open file (unable to lock file, errno = 37, error message = 'No locks available')\n"
     ]
    },
    {
     "name": "stderr",
     "output_type": "stream",
     "text": [
      "  1%|          | 2/324 [00:18<49:41,  9.26s/it]\n"
     ]
    },
    {
     "ename": "KeyboardInterrupt",
     "evalue": "",
     "output_type": "error",
     "traceback": [
      "\u001B[0;31m---------------------------------------------------------------------------\u001B[0m",
      "\u001B[0;31mKeyboardInterrupt\u001B[0m                         Traceback (most recent call last)",
      "Cell \u001B[0;32mIn[11], line 4\u001B[0m\n\u001B[1;32m      1\u001B[0m \u001B[38;5;66;03m# data loading\u001B[39;00m\n\u001B[1;32m      3\u001B[0m path \u001B[38;5;241m=\u001B[39m \u001B[38;5;124m'\u001B[39m\u001B[38;5;124m/is/rg/al/Data/solo12_data/blm_more_alpha_l0\u001B[39m\u001B[38;5;124m'\u001B[39m\n\u001B[0;32m----> 4\u001B[0m experiments \u001B[38;5;241m=\u001B[39m \u001B[43mExperiment\u001B[49m\u001B[38;5;241;43m.\u001B[39;49m\u001B[43mextract_experiments\u001B[49m\u001B[43m(\u001B[49m\u001B[43m[\u001B[49m\u001B[43mpath\u001B[49m\u001B[43m]\u001B[49m\u001B[43m,\u001B[49m\u001B[43m \u001B[49m\u001B[43mload_tensorboard\u001B[49m\u001B[38;5;241;43m=\u001B[39;49m\u001B[38;5;28;43;01mFalse\u001B[39;49;00m\u001B[43m,\u001B[49m\u001B[43m \u001B[49m\u001B[43mload_h5\u001B[49m\u001B[38;5;241;43m=\u001B[39;49m\u001B[38;5;28;43;01mTrue\u001B[39;49;00m\u001B[43m)\u001B[49m\n",
      "File \u001B[0;32m~/Dev/doi_solo/successor-features/src/diffusion_opt/experiment_aggregation.py:276\u001B[0m, in \u001B[0;36mExperiment.extract_experiments\u001B[0;34m(cls, paths, **kwargs)\u001B[0m\n\u001B[1;32m    274\u001B[0m \u001B[38;5;28;01mfor\u001B[39;00m root \u001B[38;5;129;01min\u001B[39;00m tqdm(glob\u001B[38;5;241m.\u001B[39mglob(path\u001B[38;5;241m+\u001B[39m\u001B[38;5;124m\"\u001B[39m\u001B[38;5;124m/working_directories/*\u001B[39m\u001B[38;5;124m\"\u001B[39m)):\n\u001B[1;32m    275\u001B[0m     \u001B[38;5;28;01mtry\u001B[39;00m:\n\u001B[0;32m--> 276\u001B[0m         \u001B[38;5;28;01mif\u001B[39;00m Experiment\u001B[38;5;241m.\u001B[39mis_experiment(root): experiments\u001B[38;5;241m.\u001B[39mappend(\u001B[43mExperiment\u001B[49m\u001B[43m(\u001B[49m\u001B[43mroot\u001B[49m\u001B[43m,\u001B[49m\u001B[43m \u001B[49m\u001B[38;5;241;43m*\u001B[39;49m\u001B[38;5;241;43m*\u001B[39;49m\u001B[43mkwargs\u001B[49m\u001B[43m)\u001B[49m)\n\u001B[1;32m    277\u001B[0m     \u001B[38;5;28;01mexcept\u001B[39;00m \u001B[38;5;167;01mException\u001B[39;00m \u001B[38;5;28;01mas\u001B[39;00m e:\n\u001B[1;32m    278\u001B[0m         \u001B[38;5;28mprint\u001B[39m(\u001B[38;5;124m'\u001B[39m\u001B[38;5;124mSkipping\u001B[39m\u001B[38;5;124m'\u001B[39m, root, \u001B[38;5;124m'\u001B[39m\u001B[38;5;124mbecause of\u001B[39m\u001B[38;5;124m'\u001B[39m, e)\n",
      "File \u001B[0;32m~/Dev/doi_solo/successor-features/src/diffusion_opt/experiment_aggregation.py:211\u001B[0m, in \u001B[0;36mExperiment.__init__\u001B[0;34m(self, root_path, load_tensorboard, load_h5, load_metrics)\u001B[0m\n\u001B[1;32m    209\u001B[0m     \u001B[38;5;28mself\u001B[39m\u001B[38;5;241m.\u001B[39m_accumulate_events()\n\u001B[1;32m    210\u001B[0m \u001B[38;5;28;01mif\u001B[39;00m load_h5:\n\u001B[0;32m--> 211\u001B[0m     \u001B[38;5;28;43mself\u001B[39;49m\u001B[38;5;241;43m.\u001B[39;49m\u001B[43m_load_h5\u001B[49m\u001B[43m(\u001B[49m\u001B[43m)\u001B[49m\n",
      "File \u001B[0;32m~/Dev/doi_solo/successor-features/src/diffusion_opt/experiment_aggregation.py:226\u001B[0m, in \u001B[0;36mExperiment._load_h5\u001B[0;34m(self)\u001B[0m\n\u001B[1;32m    224\u001B[0m \u001B[38;5;28;01mdef\u001B[39;00m \u001B[38;5;21m_load_h5\u001B[39m(\u001B[38;5;28mself\u001B[39m):\n\u001B[1;32m    225\u001B[0m     \u001B[38;5;28;01mfor\u001B[39;00m f \u001B[38;5;129;01min\u001B[39;00m glob\u001B[38;5;241m.\u001B[39mglob(\u001B[38;5;28mself\u001B[39m\u001B[38;5;241m.\u001B[39mroot_path\u001B[38;5;241m+\u001B[39m\u001B[38;5;124m\"\u001B[39m\u001B[38;5;124m/*/*.h5\u001B[39m\u001B[38;5;124m\"\u001B[39m):\n\u001B[0;32m--> 226\u001B[0m         dataset \u001B[38;5;241m=\u001B[39m \u001B[43mh5py\u001B[49m\u001B[38;5;241;43m.\u001B[39;49m\u001B[43mFile\u001B[49m\u001B[43m(\u001B[49m\u001B[43mf\u001B[49m\u001B[43m,\u001B[49m\u001B[43m \u001B[49m\u001B[38;5;124;43m'\u001B[39;49m\u001B[38;5;124;43mr\u001B[39;49m\u001B[38;5;124;43m'\u001B[39;49m\u001B[43m)\u001B[49m\n\u001B[1;32m    227\u001B[0m         d \u001B[38;5;241m=\u001B[39m \u001B[38;5;28mself\u001B[39m\u001B[38;5;241m.\u001B[39m_hdf5_to_dict(dataset)\n\u001B[1;32m    228\u001B[0m         \u001B[38;5;28mself\u001B[39m\u001B[38;5;241m.\u001B[39mvalues \u001B[38;5;241m=\u001B[39m {k:v[\u001B[38;5;124m'\u001B[39m\u001B[38;5;124mvalue\u001B[39m\u001B[38;5;124m'\u001B[39m] \u001B[38;5;28;01mfor\u001B[39;00m k,v \u001B[38;5;129;01min\u001B[39;00m d\u001B[38;5;241m.\u001B[39mitems()}\n",
      "File \u001B[0;32m~/Dev/solo/solo_legged_gym/.venv/lib/python3.8/site-packages/h5py/_hl/files.py:567\u001B[0m, in \u001B[0;36mFile.__init__\u001B[0;34m(self, name, mode, driver, libver, userblock_size, swmr, rdcc_nslots, rdcc_nbytes, rdcc_w0, track_order, fs_strategy, fs_persist, fs_threshold, fs_page_size, page_buf_size, min_meta_keep, min_raw_keep, locking, alignment_threshold, alignment_interval, meta_block_size, **kwds)\u001B[0m\n\u001B[1;32m    558\u001B[0m     fapl \u001B[38;5;241m=\u001B[39m make_fapl(driver, libver, rdcc_nslots, rdcc_nbytes, rdcc_w0,\n\u001B[1;32m    559\u001B[0m                      locking, page_buf_size, min_meta_keep, min_raw_keep,\n\u001B[1;32m    560\u001B[0m                      alignment_threshold\u001B[38;5;241m=\u001B[39malignment_threshold,\n\u001B[1;32m    561\u001B[0m                      alignment_interval\u001B[38;5;241m=\u001B[39malignment_interval,\n\u001B[1;32m    562\u001B[0m                      meta_block_size\u001B[38;5;241m=\u001B[39mmeta_block_size,\n\u001B[1;32m    563\u001B[0m                      \u001B[38;5;241m*\u001B[39m\u001B[38;5;241m*\u001B[39mkwds)\n\u001B[1;32m    564\u001B[0m     fcpl \u001B[38;5;241m=\u001B[39m make_fcpl(track_order\u001B[38;5;241m=\u001B[39mtrack_order, fs_strategy\u001B[38;5;241m=\u001B[39mfs_strategy,\n\u001B[1;32m    565\u001B[0m                      fs_persist\u001B[38;5;241m=\u001B[39mfs_persist, fs_threshold\u001B[38;5;241m=\u001B[39mfs_threshold,\n\u001B[1;32m    566\u001B[0m                      fs_page_size\u001B[38;5;241m=\u001B[39mfs_page_size)\n\u001B[0;32m--> 567\u001B[0m     fid \u001B[38;5;241m=\u001B[39m \u001B[43mmake_fid\u001B[49m\u001B[43m(\u001B[49m\u001B[43mname\u001B[49m\u001B[43m,\u001B[49m\u001B[43m \u001B[49m\u001B[43mmode\u001B[49m\u001B[43m,\u001B[49m\u001B[43m \u001B[49m\u001B[43muserblock_size\u001B[49m\u001B[43m,\u001B[49m\u001B[43m \u001B[49m\u001B[43mfapl\u001B[49m\u001B[43m,\u001B[49m\u001B[43m \u001B[49m\u001B[43mfcpl\u001B[49m\u001B[43m,\u001B[49m\u001B[43m \u001B[49m\u001B[43mswmr\u001B[49m\u001B[38;5;241;43m=\u001B[39;49m\u001B[43mswmr\u001B[49m\u001B[43m)\u001B[49m\n\u001B[1;32m    569\u001B[0m \u001B[38;5;28;01mif\u001B[39;00m \u001B[38;5;28misinstance\u001B[39m(libver, \u001B[38;5;28mtuple\u001B[39m):\n\u001B[1;32m    570\u001B[0m     \u001B[38;5;28mself\u001B[39m\u001B[38;5;241m.\u001B[39m_libver \u001B[38;5;241m=\u001B[39m libver\n",
      "File \u001B[0;32m~/Dev/solo/solo_legged_gym/.venv/lib/python3.8/site-packages/h5py/_hl/files.py:231\u001B[0m, in \u001B[0;36mmake_fid\u001B[0;34m(name, mode, userblock_size, fapl, fcpl, swmr)\u001B[0m\n\u001B[1;32m    229\u001B[0m     \u001B[38;5;28;01mif\u001B[39;00m swmr \u001B[38;5;129;01mand\u001B[39;00m swmr_support:\n\u001B[1;32m    230\u001B[0m         flags \u001B[38;5;241m|\u001B[39m\u001B[38;5;241m=\u001B[39m h5f\u001B[38;5;241m.\u001B[39mACC_SWMR_READ\n\u001B[0;32m--> 231\u001B[0m     fid \u001B[38;5;241m=\u001B[39m \u001B[43mh5f\u001B[49m\u001B[38;5;241;43m.\u001B[39;49m\u001B[43mopen\u001B[49m\u001B[43m(\u001B[49m\u001B[43mname\u001B[49m\u001B[43m,\u001B[49m\u001B[43m \u001B[49m\u001B[43mflags\u001B[49m\u001B[43m,\u001B[49m\u001B[43m \u001B[49m\u001B[43mfapl\u001B[49m\u001B[38;5;241;43m=\u001B[39;49m\u001B[43mfapl\u001B[49m\u001B[43m)\u001B[49m\n\u001B[1;32m    232\u001B[0m \u001B[38;5;28;01melif\u001B[39;00m mode \u001B[38;5;241m==\u001B[39m \u001B[38;5;124m'\u001B[39m\u001B[38;5;124mr+\u001B[39m\u001B[38;5;124m'\u001B[39m:\n\u001B[1;32m    233\u001B[0m     fid \u001B[38;5;241m=\u001B[39m h5f\u001B[38;5;241m.\u001B[39mopen(name, h5f\u001B[38;5;241m.\u001B[39mACC_RDWR, fapl\u001B[38;5;241m=\u001B[39mfapl)\n",
      "File \u001B[0;32mh5py/_objects.pyx:54\u001B[0m, in \u001B[0;36mh5py._objects.with_phil.wrapper\u001B[0;34m()\u001B[0m\n",
      "File \u001B[0;32mh5py/_objects.pyx:55\u001B[0m, in \u001B[0;36mh5py._objects.with_phil.wrapper\u001B[0;34m()\u001B[0m\n",
      "File \u001B[0;32mh5py/h5f.pyx:106\u001B[0m, in \u001B[0;36mh5py.h5f.open\u001B[0;34m()\u001B[0m\n",
      "File \u001B[0;32mh5py/defs.pyx:725\u001B[0m, in \u001B[0;36mh5py.defs.H5Fopen\u001B[0;34m()\u001B[0m\n",
      "File \u001B[0;32mh5py/_errors.pyx:152\u001B[0m, in \u001B[0;36mh5py._errors.set_exception\u001B[0;34m()\u001B[0m\n",
      "File \u001B[0;32m/usr/lib/python3.8/re.py:198\u001B[0m, in \u001B[0;36msearch\u001B[0;34m(pattern, string, flags)\u001B[0m\n\u001B[1;32m    194\u001B[0m \u001B[38;5;250m    \u001B[39m\u001B[38;5;124;03m\"\"\"Try to apply the pattern to all of the string, returning\u001B[39;00m\n\u001B[1;32m    195\u001B[0m \u001B[38;5;124;03m    a Match object, or None if no match was found.\"\"\"\u001B[39;00m\n\u001B[1;32m    196\u001B[0m     \u001B[38;5;28;01mreturn\u001B[39;00m _compile(pattern, flags)\u001B[38;5;241m.\u001B[39mfullmatch(string)\n\u001B[0;32m--> 198\u001B[0m \u001B[38;5;28;01mdef\u001B[39;00m \u001B[38;5;21msearch\u001B[39m(pattern, string, flags\u001B[38;5;241m=\u001B[39m\u001B[38;5;241m0\u001B[39m):\n\u001B[1;32m    199\u001B[0m \u001B[38;5;250m    \u001B[39m\u001B[38;5;124;03m\"\"\"Scan through string looking for a match to the pattern, returning\u001B[39;00m\n\u001B[1;32m    200\u001B[0m \u001B[38;5;124;03m    a Match object, or None if no match was found.\"\"\"\u001B[39;00m\n\u001B[1;32m    201\u001B[0m     \u001B[38;5;28;01mreturn\u001B[39;00m _compile(pattern, flags)\u001B[38;5;241m.\u001B[39msearch(string)\n",
      "\u001B[0;31mKeyboardInterrupt\u001B[0m: "
     ]
    }
   ],
   "source": [
    "# data loading\n",
    "\n",
    "path = '/is/rg/al/Data/solo12_data/blm_more_alpha_l0'\n",
    "experiments = Experiment.extract_experiments([path], load_tensorboard=False, load_h5=True)\n"
   ]
  },
  {
   "cell_type": "code",
   "execution_count": null,
   "metadata": {
    "ExecuteTime": {
     "start_time": "2023-09-12T12:03:24.906630511Z"
    }
   },
   "outputs": [],
   "source": [
    "summary = ExperimentSummary(experiments, exclude_params=['solo_legged_gym.env_cfg.seed'])"
   ]
  },
  {
   "cell_type": "code",
   "execution_count": null,
   "metadata": {
    "ExecuteTime": {
     "end_time": "2023-09-12T12:03:24.957262592Z",
     "start_time": "2023-09-12T12:03:24.951016032Z"
    }
   },
   "outputs": [],
   "source": [
    "for k in summary.experiments[0].values.keys():\n",
    "    if 'avg_nearest' in k:\n",
    "        print(k)"
   ]
  },
  {
   "cell_type": "code",
   "execution_count": null,
   "metadata": {
    "ExecuteTime": {
     "start_time": "2023-09-12T12:03:24.951466299Z"
    }
   },
   "outputs": [],
   "source": [
    "time_statistics_feature[(0.3, 0.3, 0.3, 1.0)].keys()"
   ]
  },
  {
   "cell_type": "code",
   "execution_count": null,
   "metadata": {
    "ExecuteTime": {
     "start_time": "2023-09-12T12:03:24.951723987Z"
    }
   },
   "outputs": [],
   "source": [
    "\n",
    "\n",
    "# 1st extrinsic reward, (None, 0.3, 0.3, None)\n",
    "# 2nd extrinsic reward, (0.9, None, 0.6, None)\n",
    "# 3rd extrinsic reward, (0.9, None, 0.6, None) - 1.0 l0 is broken,  (0.9, 0.6, None, None)\n",
    "\n",
    "\n",
    "\n",
    "\n",
    "idx = (None, 0.3, 0.3, None)\n",
    "\n",
    "def st(x, window=100):\n",
    "    return np.convolve(x, np.ones(window)/window, 'valid') \n",
    "\n",
    "\n",
    "\n",
    "time_statistics_feature = summary.time_statistics('scalar/main/Feature/avg_nearest_dist_per_step', [idx])\n",
    "time_statistics_return = summary.time_statistics('scalar/main/Constraint/avg_ext_values_rew0_skill1', [idx])\n",
    "\n",
    "\n",
    "import numpy as np\n",
    "\n",
    "def extract_mu_std(ts):\n",
    "    \"\"\"Returns last timestep.\"\"\"\n",
    "    return np.array([t['mu'][-1] for t in ts]),np.array([t['std'][-1] for t in ts])\n",
    "\n",
    "##### change this with data #######\n",
    "\n",
    "x = np.array([time_statistics_feature[k]['mu'][-1] for k in time_statistics_feature])\n",
    "y = np.array([time_statistics_return[k]['mu'][-1] for k in time_statistics_return])\n",
    "x_err = np.sqrt(np.array([time_statistics_feature[k]['var'][-1] for k in time_statistics_feature]))\n",
    "y_err = np.sqrt(np.array([time_statistics_return[k]['var'][-1] for k in time_statistics_return]))\n",
    "\n",
    "a1 = np.array([k[0] for k in time_statistics_feature.keys()])\n",
    "a2 = np.array([k[1] for k in time_statistics_feature.keys()])\n",
    "a3 = np.array([k[2] for k in time_statistics_feature.keys()])\n",
    "l0_values = np.array([k[3] for k in time_statistics_feature.keys()])\n",
    "cmap_l0 = {\n",
    "    1.0: COLORS[0],\n",
    "    2.0: COLORS[1],\n",
    "    3.0: COLORS[2],\n",
    "    4.0: COLORS[3]\n",
    "}\n",
    "l0_colors = [cmap_l0[l0] for l0 in l0_values]\n",
    "\n",
    "####################################\n"
   ]
  },
  {
   "cell_type": "code",
   "execution_count": null,
   "metadata": {
    "ExecuteTime": {
     "start_time": "2023-09-12T12:03:24.951912377Z"
    }
   },
   "outputs": [],
   "source": []
  },
  {
   "cell_type": "markdown",
   "metadata": {},
   "source": [
    "# Big plots"
   ]
  },
  {
   "cell_type": "code",
   "execution_count": null,
   "metadata": {
    "ExecuteTime": {
     "start_time": "2023-09-12T12:03:24.952063471Z"
    }
   },
   "outputs": [],
   "source": [
    "\n",
    "# data\n",
    "# define indexes that you want to plot here\n",
    "\n",
    "def st(x, window=100):\n",
    "    return np.convolve(x.flatten(), np.ones(window)/window, 'valid') \n",
    "\n",
    "for vary in [0, 1, 2]:\n",
    "    figsize = figsize_full[0]*3, figsize_full[1]*9\n",
    "    fig, axs = plt.subplots(9, 3, figsize=figsize)\n",
    "    for kk, idx_ in enumerate(itertools.product([0.3, 0.6, 0.9], [0.3, 0.6, 0.9])):\n",
    "        for rew_idx in range(3):\n",
    "            \n",
    "            ax = axs[kk, rew_idx]\n",
    "            print(kk, rew_idx, idx_)\n",
    "\n",
    "            idx = [None, None, None, None]\n",
    "            idx[(1+vary)%3] = idx_[0]\n",
    "            idx[(2+vary)%3] = idx_[1]\n",
    "            idx = tuple(idx)\n",
    "\n",
    "\n",
    "            # TODO take min over skills\n",
    "            time_statistics_feature = summary.time_statistics('scalar/main/Feature/avg_nearest_dist_per_step', [idx], verbose=False, apply_func=st)\n",
    "            time_statistics_return = summary.time_statistics(f'scalar/main/Constraint/avg_ext_values_rew{rew_idx}_skill1', [idx], apply_func=st, verbose=False)\n",
    "\n",
    "            import numpy as np\n",
    "\n",
    "            ##### change this with data #######\n",
    "\n",
    "            x = np.array([time_statistics_feature[k]['mu'][-1] for k in time_statistics_feature])\n",
    "            y = np.array([time_statistics_return[k]['mu'][-1] for k in time_statistics_return])\n",
    "            x_err = np.sqrt(np.array([time_statistics_feature[k]['var'][-1] for k in time_statistics_feature]))\n",
    "            y_err = np.sqrt(np.array([time_statistics_return[k]['var'][-1] for k in time_statistics_return]))\n",
    "\n",
    "            a1 = np.array([k[0] for k in time_statistics_feature.keys()])\n",
    "            a2 = np.array([k[1] for k in time_statistics_feature.keys()])\n",
    "            a3 = np.array([k[2] for k in time_statistics_feature.keys()])\n",
    "            l0_values = np.array([k[3] for k in time_statistics_feature.keys()])\n",
    "            cmap_l0 = {\n",
    "                1.0: COLORS[0],\n",
    "                2.0: COLORS[1],\n",
    "                3.0: COLORS[2],\n",
    "                4.0: COLORS[3]\n",
    "            }\n",
    "            l0_colors = [cmap_l0[l0] for l0 in l0_values]\n",
    "\n",
    "\n",
    "\n",
    "            def scatter_pie_markers(x,y, c1, c2, c3, size=40, ax=None):\n",
    "\n",
    "                # first define the ratios\n",
    "                r1 = 0.33       # 20%\n",
    "                r2 = r1 + 0.33  # 40%\n",
    "\n",
    "                if ax is None:\n",
    "                    ax = plt.gca()\n",
    "\n",
    "                # calculate the points of the first pie marker\n",
    "                #\n",
    "                # these are just the origin (0,0) +\n",
    "                # some points on a circle cos,sin\n",
    "                x_ = [0] + np.cos(np.linspace(0, 2 * np.pi * r1, 10)).tolist()\n",
    "                y_ = [0] + np.sin(np.linspace(0, 2 * np.pi * r1, 10)).tolist()\n",
    "                xy1 = np.column_stack([x_, y_])\n",
    "                s1 = np.abs(xy1).max()\n",
    "\n",
    "                x_ = [0] + np.cos(np.linspace(2 * np.pi * r1, 2 * np.pi * r2, 10)).tolist()\n",
    "                y_ = [0] + np.sin(np.linspace(2 * np.pi * r1, 2 * np.pi * r2, 10)).tolist()\n",
    "                xy2 = np.column_stack([x_, y_])\n",
    "                s2 = np.abs(xy2).max()\n",
    "\n",
    "                x_ = [0] + np.cos(np.linspace(2 * np.pi * r2, 2 * np.pi, 10)).tolist()\n",
    "                y_ = [0] + np.sin(np.linspace(2 * np.pi * r2, 2 * np.pi, 10)).tolist()\n",
    "                xy3 = np.column_stack([x_, y_])\n",
    "                s3 = np.abs(xy3).max()\n",
    "\n",
    "                ax.scatter(x, y, marker=xy1,\n",
    "                        s=s1 ** 2 * size, facecolor=c1)\n",
    "                ax.scatter(x, y, marker=xy2,\n",
    "                        s=s2 ** 2 * size, facecolor=c2)\n",
    "                return ax.scatter(x, y, marker=xy3,\n",
    "                        s=s3 ** 2 * size, facecolor=c3)\n",
    "\n",
    "\n",
    "            c = COLORS[0]\n",
    "\n",
    "            cmap = matplotlib.colormaps['viridis'].resampled(8)\n",
    "\n",
    "\n",
    "            for x_, y_, y_err_, x_err_, a1_, a2_, a3_, l0, l0_color in zip(x.reshape(-1, 1),y.reshape(-1,1),y_err.reshape(-1,1),x_err.reshape(-1,1), a1, a2, a3, l0_values, l0_colors):\n",
    "\n",
    "                ax.errorbar(x_, y_, xerr=x_err_, yerr=y_err_, fmt='o', markersize=0.0, zorder=-1, c=l0_color)\n",
    "                im = scatter_pie_markers(x_,y_, cmap(a1_), cmap(a2_), cmap(a3_), ax=ax)\n",
    "\n",
    "\n",
    "                ax.annotate(f'{l0}', (x_+0.02,  y_+0.02), color=l0_color)\n",
    "\n",
    "\n",
    "\n",
    "\n",
    "            # plot heatmap of the data\n",
    "            ax.set_ylabel(\"Return\")\n",
    "            ax.set_xlabel(\"Diversity\")\n",
    "            ax.set_title(\"{idx}\".format(idx=idx))\n",
    "            import os\n",
    "\n",
    "    fig.savefig(os.path.expanduser(f'~/Figures/icra2023/vdw_big_{vary}_vary.pdf'), bbox_inches='tight')\n",
    "    plt.close()\n",
    "    print('Plotted!')\n",
    "\n",
    "\n",
    "\n"
   ]
  },
  {
   "cell_type": "markdown",
   "metadata": {},
   "source": [
    "# Small plots"
   ]
  },
  {
   "cell_type": "code",
   "execution_count": null,
   "metadata": {
    "ExecuteTime": {
     "start_time": "2023-09-12T12:03:24.952209457Z"
    }
   },
   "outputs": [],
   "source": [
    "\n",
    "# data\n",
    "# define indexes that you want to plot here\n",
    "# 1st extrinsic reward, (None, 0.3, 0.3, None)\n",
    "# 2nd extrinsic reward, (0.9, None, 0.6, None)\n",
    "# 3rd extrinsic reward, (0.9, None, 0.6, None) - 1.0 l0 is broken,  (0.9, 0.6, None, None)\n",
    "\n",
    "\n",
    "\n",
    "\n",
    "idx =  (0.9, None, 0.6, None)\n",
    "rew = 1\n",
    "skill = 1\n",
    "\n",
    "time_statistics_feature = summary.time_statistics('scalar/main/Feature/avg_nearest_dist_per_step', [idx])\n",
    "time_statistics_return = summary.time_statistics(f'scalar/main/Constraint/avg_ext_values_rew{rew}_skill{skill}', [idx])\n",
    "\n",
    "fig_name = f'vdw_rainbow_rew{rew}.pdf'\n",
    "\n",
    "import numpy as np\n",
    "\n",
    "def extract_mu_std(ts):\n",
    "    \"\"\"Returns last timestep.\"\"\"\n",
    "    return np.array([t['mu'][-1] for t in ts]),np.array([t['std'][-1] for t in ts])\n",
    "\n",
    "##### change this with data #######\n",
    "\n",
    "x = np.array([st(time_statistics_feature[k]['mu'])[-1] for k in time_statistics_feature])\n",
    "y = np.array([st(time_statistics_return[k]['mu'])[-1] for k in time_statistics_return])\n",
    "x_err = np.sqrt(np.array([st(time_statistics_feature[k]['var'])[-1] for k in time_statistics_feature]))\n",
    "y_err = np.sqrt(np.array([st(time_statistics_return[k]['var'])[-1] for k in time_statistics_return]))\n",
    "\n",
    "a1 = np.array([k[0] for k in time_statistics_feature.keys()])\n",
    "a2 = np.array([k[1] for k in time_statistics_feature.keys()])\n",
    "a3 = np.array([k[2] for k in time_statistics_feature.keys()])\n",
    "l0_values = np.array([k[3] for k in time_statistics_feature.keys()])\n",
    "cmap_l0 = {\n",
    "    1.0: COLORS[0],\n",
    "    2.0: COLORS[1],\n",
    "    3.0: COLORS[2],\n",
    "    4.0: COLORS[3]\n",
    "}\n",
    "l0_colors = [cmap_l0[l0] for l0 in l0_values]\n",
    "\n",
    "####################################\n",
    "\n",
    "\n",
    "\n",
    "\n",
    "# random scatter plot\n",
    "import numpy as np\n",
    "import matplotlib.pyplot as plt\n",
    "import matplotlib.patches as mpatches\n",
    "import matplotlib.lines as mlines\n",
    "import matplotlib.ticker as mticker\n",
    "import matplotlib\n",
    "import matplotlib.ticker as ticker\n",
    "import matplotlib.gridspec as gridspec\n",
    "import matplotlib.patches as patches\n",
    "import itertools\n",
    "\n",
    "\n",
    "\n",
    "\n",
    "def scatter_pie_markers(x,y, c1, c2, c3, size=40, ax=None):\n",
    "\n",
    "    # first define the ratios\n",
    "    r1 = 0.33       # 20%\n",
    "    r2 = r1 + 0.33  # 40%\n",
    "\n",
    "    if ax is None:\n",
    "        ax = plt.gca()\n",
    "\n",
    "    # calculate the points of the first pie marker\n",
    "    #\n",
    "    # these are just the origin (0,0) +\n",
    "    # some points on a circle cos,sin\n",
    "    x_ = [0] + np.cos(np.linspace(0, 2 * np.pi * r1, 10)).tolist()\n",
    "    y_ = [0] + np.sin(np.linspace(0, 2 * np.pi * r1, 10)).tolist()\n",
    "    xy1 = np.column_stack([x_, y_])\n",
    "    s1 = np.abs(xy1).max()\n",
    "\n",
    "    x_ = [0] + np.cos(np.linspace(2 * np.pi * r1, 2 * np.pi * r2, 10)).tolist()\n",
    "    y_ = [0] + np.sin(np.linspace(2 * np.pi * r1, 2 * np.pi * r2, 10)).tolist()\n",
    "    xy2 = np.column_stack([x_, y_])\n",
    "    s2 = np.abs(xy2).max()\n",
    "\n",
    "    x_ = [0] + np.cos(np.linspace(2 * np.pi * r2, 2 * np.pi, 10)).tolist()\n",
    "    y_ = [0] + np.sin(np.linspace(2 * np.pi * r2, 2 * np.pi, 10)).tolist()\n",
    "    xy3 = np.column_stack([x_, y_])\n",
    "    s3 = np.abs(xy3).max()\n",
    "\n",
    "    ax.scatter(x, y, marker=xy1,\n",
    "            s=s1 ** 2 * size, facecolor=c1)\n",
    "    ax.scatter(x, y, marker=xy2,\n",
    "            s=s2 ** 2 * size, facecolor=c2)\n",
    "    return ax.scatter(x, y, marker=xy3,\n",
    "            s=s3 ** 2 * size, facecolor=c3)\n",
    "\n",
    "\n",
    "\n",
    "\n",
    "\n",
    "fig, ax = plt.subplots()\n",
    "\n",
    "\n",
    "##### change this with data #######\n",
    "\n",
    "# x,y = np.random.rand(20), np.random.rand(20)\n",
    "# y_err = np.random.rand(20) * 0.1\n",
    "# x_err = np.random.rand(20) * 0.1\n",
    "# a1 = np.random.rand(20)\n",
    "# a2 = np.random.rand(20)\n",
    "# a3 = np.random.rand(20)\n",
    "\n",
    "# l0_colors = np.random.randint(3, size=20)\n",
    "# l0_values = [1.0, 2.0, 4.0]\n",
    "# l0_values = np.array([l0_values[i] for i in l0_colors])\n",
    "# l0_colors = np.array([COLORS[i] for i in l0_colors])\n",
    "\n",
    "####################################\n",
    "\n",
    "\n",
    "\n",
    "c = COLORS[0]\n",
    "\n",
    "cmap = matplotlib.colormaps['viridis'].resampled(8)\n",
    "# new cmap\n",
    "# def cmap(x):\n",
    "#     return {\n",
    "#         0.3: COLORS[-3],\n",
    "#         0.6: COLORS[-2],\n",
    "#         0.9: COLORS[-1]\n",
    "#     }[x]\n",
    "\n",
    "\n",
    "\n",
    "\n",
    "\n",
    "\n",
    "for x_, y_, y_err_, x_err_, a1_, a2_, a3_, l0, l0_color in zip(x.reshape(-1, 1),y.reshape(-1,1),y_err.reshape(-1,1),x_err.reshape(-1,1), a1, a2, a3, l0_values, l0_colors):\n",
    "\n",
    "    plt.errorbar(x_, y_, xerr=x_err_, fmt='o', markersize=0.0, zorder=-1, c=l0_color)\n",
    "    im = scatter_pie_markers(x_,y_, cmap(a1_), cmap(a2_), cmap(a3_), ax=ax)\n",
    "    ax.annotate(f'{l0}', (x_+.05,  y_+.4), color=l0_color)\n",
    "\n",
    "\n",
    "ymin, ymax = ax.get_ylim()\n",
    "ax.set_ylim(ymin, ymax+2)\n",
    "xmin, xmax = ax.get_xlim()\n",
    "yunit = (ymax - ymin) / 20\n",
    "xunit = (xmax - xmin) / 20\n",
    "\n",
    "\n",
    "\n",
    "\n",
    "\n",
    "# plot heatmap of the data\n",
    "ax.set_ylabel(\"Return\")\n",
    "ax.set_xlabel(\"Diversity\")\n",
    "\n",
    "\n",
    "norm = matplotlib.colors.Normalize(vmin=0.2, vmax=1.0)\n",
    "# fig.colorbar(matplotlib.cm.ScalarMappable(norm=norm, cmap='viridis'), ax=ax, orientation=\"vertical\", label=\"$\\\\alpha$\")\n",
    "\n",
    "import os\n",
    "\n",
    "fig.savefig(os.path.expanduser(f'~/Figures/icra2023/{fig_name}.pdf'), bbox_inches='tight')\n",
    "\n",
    "\n",
    "\n"
   ]
  },
  {
   "cell_type": "code",
   "execution_count": null,
   "metadata": {
    "ExecuteTime": {
     "start_time": "2023-09-12T12:03:24.952354275Z"
    }
   },
   "outputs": [],
   "source": [
    "colors_float = []\n",
    "for a in (0.3, 0.6, 0.9):\n",
    "    colors_float.append(cmap(a))"
   ]
  },
  {
   "cell_type": "code",
   "execution_count": null,
   "metadata": {
    "ExecuteTime": {
     "start_time": "2023-09-12T12:03:24.952513861Z"
    }
   },
   "outputs": [],
   "source": [
    "# float colors to hex colors\n",
    "colors = []\n",
    "for c in colors_float:\n",
    "    colors.append(\"#%02x%02x%02x\" % (int(c[0]*255), int(c[1]*255), int(c[2]*255)))\n",
    "print(colors)"
   ]
  }
 ],
 "metadata": {
  "kernelspec": {
   "display_name": ".venv",
   "language": "python",
   "name": "python3"
  },
  "language_info": {
   "codemirror_mode": {
    "name": "ipython",
    "version": 3
   },
   "file_extension": ".py",
   "mimetype": "text/x-python",
   "name": "python",
   "nbconvert_exporter": "python",
   "pygments_lexer": "ipython3",
   "version": "3.8.18"
  },
  "orig_nbformat": 4
 },
 "nbformat": 4,
 "nbformat_minor": 2
}
